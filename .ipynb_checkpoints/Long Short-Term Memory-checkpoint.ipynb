{
 "cells": [
  {
   "cell_type": "code",
   "execution_count": 106,
   "id": "62e5bbb2",
   "metadata": {},
   "outputs": [],
   "source": [
    "import torch\n",
    "import torch.nn as nn\n",
    "import torch.nn.functional as F\n",
    "from torch.optim import Adam\n",
    "\n",
    "import lightning as L\n",
    "from torch.utils.data import TensorDataset, DataLoader\n",
    "\n",
    "class LSTM(L.LightningModule):\n",
    "    \n",
    "    def __init__(self):\n",
    "        # Create the weight and bias tensors\n",
    "        super().__init__()\n",
    "        \n",
    "        # Use a normal distribution to randomly select initialisation values for our LSTM weights (torch.normal)\n",
    "        mean = torch.tensor(0.0)\n",
    "        std = torch.tensor(1.0)\n",
    "        \n",
    "        # requires_grad = True since we want to be able to optimise these weights\n",
    "        \n",
    "        # Weights for the Long Term Memory Remembering\n",
    "        self.wlr1 = nn.Parameter(torch.normal(mean = mean, std = std), requires_grad = True)\n",
    "        self.wlr2 = nn.Parameter(torch.normal(mean = mean, std = std), requires_grad = True)\n",
    "        self.blr1 = nn.Parameter(torch.tensor(0.), requires_grad = True)\n",
    "        \n",
    "        # Weights for the potential new Long Term Memory to be remembered\n",
    "        self.wpr1 = nn.Parameter(torch.normal(mean = mean, std = std), requires_grad = True)\n",
    "        self.wpr2 = nn.Parameter(torch.normal(mean = mean, std = std), requires_grad = True)\n",
    "        self.bpr1 = nn.Parameter(torch.tensor(0.), requires_grad = True)\n",
    "        \n",
    "        # Weights for the potential Long Term Memory output\n",
    "        self.wp1 = nn.Parameter(torch.normal(mean = mean, std = std), requires_grad = True)\n",
    "        self.wp2 = nn.Parameter(torch.normal(mean = mean, std = std), requires_grad = True)\n",
    "        self.bp1 = nn.Parameter(torch.tensor(0.), requires_grad = True)\n",
    "        \n",
    "        # Weight for the output / short term memory\n",
    "        self.wo1 = nn.Parameter(torch.normal(mean = mean, std = std), requires_grad = True)\n",
    "        self.wo2 = nn.Parameter(torch.normal(mean = mean, std = std), requires_grad = True)\n",
    "        self.bo1 = nn.Parameter(torch.tensor(0.), requires_grad = True)\n",
    "        \n",
    "    def unit(self, input_value, short_memory, long_memory):\n",
    "        # Carry out the mathematical operations\n",
    "        # Sigmoid functions utilised to determine % of values that will be remembered\n",
    "        # Tanh functions utilised to determine the actual memory values\n",
    "        \n",
    "        long_remember_percent = torch.sigmoid((short_memory * self.wlr1) + (input_value * self.wlr2) + self.blr1)\n",
    "        \n",
    "        potential_remember_percent = torch.sigmoid((short_memory * self.wpr1) + (input_value * self.wpr2) + self.bpr1)\n",
    "        potential_memory = torch.tanh((short_memory * self.wp1) + (input_value * self.wp2) + self.bp1)\n",
    "        \n",
    "        output_percent = torch.sigmoid((short_memory * self.wo1) + (input_value * self.wo2) + self.bo1)\n",
    "        \n",
    "        updated_long_memory = ((long_memory * long_remember_percent) + (potential_memory * potential_remember_percent))\n",
    "        updated_short_memory = torch.tanh(updated_long_memory) * output_percent\n",
    "        \n",
    "        return ([updated_short_memory, updated_long_memory])\n",
    "        \n",
    "    def forward(self, input):\n",
    "        # Carry out a forward pass through the unrolled LSTM unit\n",
    "        \n",
    "        long_memory = 0\n",
    "        short_memory = 0\n",
    "        \n",
    "        day1 = input[0]\n",
    "        day2 = input[1]\n",
    "        day3 = input[2]\n",
    "        day4 = input[3]\n",
    "        \n",
    "        # Cycle through the multiple days of data and unroll the LSTM units, while receiving the updated values for short and long term memory\n",
    "        short_memory, long_memory = self.unit(day1, short_memory, long_memory)\n",
    "        short_memory, long_memory = self.unit(day2, short_memory, long_memory)\n",
    "        short_memory, long_memory = self.unit(day3, short_memory, long_memory)\n",
    "        short_memory, long_memory = self.unit(day4, short_memory, long_memory)\n",
    "        \n",
    "        # Output value is the short memory\n",
    "        return short_memory\n",
    "         \n",
    "    def configure_optimizers(self):\n",
    "        # Configuring our optimiser - in this case ADAM\n",
    "        return Adam(self.parameters())\n",
    "        \n",
    "    def training_step(self, batch, batch_idx):\n",
    "        # Calculate the loss and the training progress\n",
    "        input_i, label_i = batch\n",
    "        output_i = self.forward(input_i[0])\n",
    "        loss = (output_i - label_i) ** 2\n",
    "        \n",
    "        # Lightning Module that stores the training_loss values\n",
    "        self.log(\"train_loss\", loss)\n",
    "        self.log(f\"out_{label_i}\", output_i)\n",
    "        \n",
    "        return loss\n",
    "            \n",
    "        "
   ]
  },
  {
   "cell_type": "code",
   "execution_count": 107,
   "id": "e821c265",
   "metadata": {},
   "outputs": [
    {
     "name": "stdout",
     "output_type": "stream",
     "text": [
      "Untrained network - randomised weights predictions\n",
      "Observed = 0, Predicted = tensor(0.6763)\n"
     ]
    }
   ],
   "source": [
    "model = LSTM()\n",
    "print(\"Untrained network - randomised weights predictions\")\n",
    "# We have to detach our predictions here since the tensor will carry its gradient\n",
    "print(\"Observed = 0, Predicted =\", model(torch.tensor([1., 0.5, 0.25, 1.])).detach())"
   ]
  },
  {
   "cell_type": "code",
   "execution_count": 108,
   "id": "13ed67a5",
   "metadata": {},
   "outputs": [],
   "source": [
    "# Creating a small dataset of test data for training\n",
    "inputs = torch.tensor([[0., 0.5, 0.25, 1.], [1., 0.5, 0.25, 1.]])\n",
    "labels = torch.tensor([0., 1.])\n",
    "\n",
    "# Dataloaders are especially useful for quite a number of reasons\n",
    "# 1. Dataloaders make it easy to access data in batches\n",
    "# 2. Dataloaders make it easy to shuffle data during each epoch\n",
    "# 3. Dataloaders make it easy to use a small part of the data if we watch to do quick training for debugging\n",
    "dataset = TensorDataset(inputs, labels)\n",
    "dataloader = DataLoader(dataset)"
   ]
  },
  {
   "cell_type": "code",
   "execution_count": 109,
   "id": "f2856647",
   "metadata": {},
   "outputs": [
    {
     "name": "stderr",
     "output_type": "stream",
     "text": [
      "GPU available: False, used: False\n",
      "TPU available: False, using: 0 TPU cores\n",
      "IPU available: False, using: 0 IPUs\n",
      "HPU available: False, using: 0 HPUs\n",
      "\n",
      "  | Name | Type | Params\n",
      "------------------------------\n",
      "------------------------------\n",
      "12        Trainable params\n",
      "0         Non-trainable params\n",
      "12        Total params\n",
      "0.000     Total estimated model params size (MB)\n",
      "C:\\Users\\diogo\\anaconda3\\lib\\site-packages\\lightning\\pytorch\\trainer\\connectors\\data_connector.py:430: PossibleUserWarning: The dataloader, train_dataloader, does not have many workers which may be a bottleneck. Consider increasing the value of the `num_workers` argument` (try 12 which is the number of cpus on this machine) in the `DataLoader` init to improve performance.\n",
      "  rank_zero_warn(\n",
      "C:\\Users\\diogo\\anaconda3\\lib\\site-packages\\lightning\\pytorch\\loops\\fit_loop.py:280: PossibleUserWarning: The number of training batches (2) is smaller than the logging interval Trainer(log_every_n_steps=50). Set a lower value for log_every_n_steps if you want to see logs for the training epoch.\n",
      "  rank_zero_warn(\n"
     ]
    },
    {
     "data": {
      "application/vnd.jupyter.widget-view+json": {
       "model_id": "e6dc7ce0b3b24f98907cee068f65c6d8",
       "version_major": 2,
       "version_minor": 0
      },
      "text/plain": [
       "Training: 0it [00:00, ?it/s]"
      ]
     },
     "metadata": {},
     "output_type": "display_data"
    },
    {
     "name": "stderr",
     "output_type": "stream",
     "text": [
      "`Trainer.fit` stopped: `max_epochs=1200` reached.\n"
     ]
    }
   ],
   "source": [
    "# Training the LSTM model using Lightning\n",
    "trainer = L.Trainer(max_epochs = 1200)\n",
    "trainer.fit(model, train_dataloaders = dataloader)"
   ]
  },
  {
   "cell_type": "code",
   "execution_count": 110,
   "id": "10c1d466",
   "metadata": {},
   "outputs": [
    {
     "data": {
      "text/plain": [
       "tensor(0.8322)"
      ]
     },
     "execution_count": 110,
     "metadata": {},
     "output_type": "execute_result"
    }
   ],
   "source": [
    "# The label 1 prediction is near perfect\n",
    "model(torch.tensor([1., 0.5, 0.25, 1.])).detach()"
   ]
  },
  {
   "cell_type": "code",
   "execution_count": 111,
   "id": "dd08e952",
   "metadata": {},
   "outputs": [],
   "source": [
    "# Reading in our data that Lightning generated\n",
    "import pandas as pd\n",
    "import matplotlib.pyplot as plt\n",
    "\n",
    "df = pd.read_csv(\"lightning_logs/version_13/metrics.csv\")"
   ]
  },
  {
   "cell_type": "code",
   "execution_count": 112,
   "id": "52b98d02",
   "metadata": {},
   "outputs": [
    {
     "data": {
      "image/png": "[encoded data removed]",
      "text/plain": [
       "<Figure size 640x480 with 1 Axes>"
      ]
     },
     "metadata": {},
     "output_type": "display_data"
    }
   ],
   "source": [
    "# Viewing how well our model \n",
    "plt.plot(df[\"epoch\"], df[\"out_tensor([0.])\"])\n",
    "plt.plot(df[\"epoch\"], df[\"out_tensor([1.])\"])\n",
    "plt.plot(df[\"epoch\"], df[\"train_loss\"])\n",
    "plt.title(\"Model Accuracy for both labels\")\n",
    "plt.ylabel(\"Accuracy\")\n",
    "plt.xlabel(\"Epochs\")\n",
    "\n",
    "plt.legend([\"Label 1\", \"Label 2\", \"Training Loss\"])\n",
    "plt.show()"
   ]
  },
  {
   "cell_type": "code",
   "execution_count": 92,
   "id": "fd5402f8",
   "metadata": {},
   "outputs": [],
   "source": [
    "# Lightning allows us to continue training by adding epochs without having to restart\n",
    "# it saves checkpoints\n",
    "\n",
    "path_to_best_checkpoint = trainer.checkpoint_callback.best_model_path\n",
    "# Set this parameter in trainer.fit()\n",
    "ckpt_path = path_to_best_checkpoint"
   ]
  }
 ],
 "metadata": {
  "kernelspec": {
   "display_name": "Python 3 (ipykernel)",
   "language": "python",
   "name": "python3"
  },
  "language_info": {
   "codemirror_mode": {
    "name": "ipython",
    "version": 3
   },
   "file_extension": ".py",
   "mimetype": "text/x-python",
   "name": "python",
   "nbconvert_exporter": "python",
   "pygments_lexer": "ipython3",
   "version": "3.9.13"
  }
 },
 "nbformat": 4,
 "nbformat_minor": 5
}
